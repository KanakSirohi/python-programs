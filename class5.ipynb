{
 "cells": [
  {
   "cell_type": "markdown",
   "id": "c571b3b2-885e-4975-9692-c9c0104ab1b4",
   "metadata": {},
   "source": [
    "#  error handling "
   ]
  },
  {
   "cell_type": "code",
   "execution_count": 4,
   "id": "b9df73cb-cae7-465c-9696-1ef85794196b",
   "metadata": {},
   "outputs": [
    {
     "name": "stdout",
     "output_type": "stream",
     "text": [
      " x is not defined\n"
     ]
    }
   ],
   "source": [
    "# syntax\n",
    "# try:\n",
    "    # error\n",
    "# catch:\n",
    "#     type of the error\n",
    "# print(x)  # name error\n",
    "try:\n",
    "    print(x)\n",
    "except NameError:\n",
    "    print(\" x is not defined\")"
   ]
  },
  {
   "cell_type": "code",
   "execution_count": 14,
   "id": "ffbb2663-2f36-45ee-a518-10ccb3834bcd",
   "metadata": {},
   "outputs": [
    {
     "name": "stdout",
     "output_type": "stream",
     "text": [
      " there is zero division error\n"
     ]
    }
   ],
   "source": [
    "\n",
    "try:\n",
    "    y=1/0\n",
    "except ZeroDivisionError:\n",
    "    print(\" there is zero division error\")"
   ]
  },
  {
   "cell_type": "code",
   "execution_count": 18,
   "id": "4746c53e-2d6e-4b25-a15e-8c25a32305de",
   "metadata": {},
   "outputs": [
    {
     "name": "stdout",
     "output_type": "stream",
     "text": [
      " string can not be converted into the integer\n"
     ]
    }
   ],
   "source": [
    "# a=\"kanak\"\n",
    "# b=int(a)\n",
    "# print(b)\n",
    "try:\n",
    "    a=\"kanak\"\n",
    "    b=int(a)\n",
    "    print(a)\n",
    "except ValueError:\n",
    "    print(\" string can not be converted into the integer\")"
   ]
  },
  {
   "cell_type": "code",
   "execution_count": 22,
   "id": "2645f3f9-fd4d-4c6c-b50f-1b2ffc4b9094",
   "metadata": {},
   "outputs": [
    {
     "name": "stdout",
     "output_type": "stream",
     "text": [
      "file not found error\n"
     ]
    }
   ],
   "source": [
    "# import  os \n",
    "# os.remove(\"myfile.txt\")\n",
    "try:\n",
    "    os.remove(\"myfile.txt\")\n",
    "except FileNotFoundError:\n",
    "    print(\"file not found error\")"
   ]
  },
  {
   "cell_type": "code",
   "execution_count": 32,
   "id": "ca9a2b57-223b-4761-bfae-60351f328626",
   "metadata": {},
   "outputs": [
    {
     "name": "stdout",
     "output_type": "stream",
     "text": [
      "index error,,,,, index is out of the range\n"
     ]
    }
   ],
   "source": [
    " myList=[\"kanak\",\"palak\",\"bhavya\"]\n",
    "# print(myList[4])\n",
    "try:\n",
    "    # myList=[\"kanak\",\"palak\",\"bhavya\"]\n",
    "    print(myList[4])\n",
    "except IndexError:\n",
    "    print(\"index error,,,,, index is out of the range\")"
   ]
  },
  {
   "cell_type": "code",
   "execution_count": 55,
   "id": "6d0d05fb-0465-47a9-aac2-71d51c33567c",
   "metadata": {},
   "outputs": [
    {
     "name": "stdout",
     "output_type": "stream",
     "text": [
      "concatenate only str\n",
      "it always runs\n"
     ]
    }
   ],
   "source": [
    "x=\"kanak\"\n",
    "y=6\n",
    "# c=x+y\n",
    "try:\n",
    "    c=x+y\n",
    "    print(c)\n",
    "except TypeError:\n",
    "    print(\"concatenate only str\")\n",
    "finally:\n",
    "    print(\"it always runs\")\n"
   ]
  },
  {
   "cell_type": "code",
   "execution_count": null,
   "id": "712df0f4-f10d-4fe4-ac43-67bb11bf4fb6",
   "metadata": {},
   "outputs": [],
   "source": []
  },
  {
   "cell_type": "code",
   "execution_count": null,
   "id": "c9766b3b-f784-4ae6-a6ca-7d6d4eb40bd7",
   "metadata": {},
   "outputs": [],
   "source": []
  }
 ],
 "metadata": {
  "kernelspec": {
   "display_name": "Python 3 (ipykernel)",
   "language": "python",
   "name": "python3"
  },
  "language_info": {
   "codemirror_mode": {
    "name": "ipython",
    "version": 3
   },
   "file_extension": ".py",
   "mimetype": "text/x-python",
   "name": "python",
   "nbconvert_exporter": "python",
   "pygments_lexer": "ipython3",
   "version": "3.12.4"
  }
 },
 "nbformat": 4,
 "nbformat_minor": 5
}
