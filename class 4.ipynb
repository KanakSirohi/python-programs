{
 "cells": [
  {
   "cell_type": "markdown",
   "id": "3a6da496-c0d6-40c8-8c58-ba9e0da6bf12",
   "metadata": {},
   "source": [
    "#  decision making"
   ]
  },
  {
   "cell_type": "code",
   "execution_count": 14,
   "id": "5b11503d-c6a6-4f7b-b36a-8cb0ddd4519a",
   "metadata": {},
   "outputs": [
    {
     "name": "stdin",
     "output_type": "stream",
     "text": [
      " enter your age to check if u r eligible for voting or not: 24\n"
     ]
    },
    {
     "name": "stdout",
     "output_type": "stream",
     "text": [
      " you are eligible for voting\n"
     ]
    }
   ],
   "source": [
    "#  check if u r eligible for voting or super vote \n",
    "age = int(input( \" enter your age to check if u r eligible for voting or not:\"))\n",
    "if age>=18 and age<55:\n",
    "    print(\" you are eligible for voting\")\n",
    "elif age>55:\n",
    "    print(\" you are eligible for the super vote\")\n",
    "else:\n",
    "    print(\" you are not eligible for voting\")\n"
   ]
  },
  {
   "cell_type": "markdown",
   "id": "d0cd70ab-e8eb-47a6-9748-f530df6054fa",
   "metadata": {},
   "source": [
    "#  loops"
   ]
  },
  {
   "cell_type": "code",
   "execution_count": 4,
   "id": "d333679f-1fe5-429d-875a-597b5126be47",
   "metadata": {},
   "outputs": [
    {
     "name": "stdin",
     "output_type": "stream",
     "text": [
      " enter your name : kanak sirohi\n"
     ]
    },
    {
     "name": "stdout",
     "output_type": "stream",
     "text": [
      "k\n",
      "a\n",
      "n\n",
      "a\n",
      "k\n",
      " \n",
      "s\n",
      "i\n",
      "r\n",
      "o\n",
      "h\n",
      "i\n"
     ]
    }
   ],
   "source": [
    "#  for loop : it is used to complete the iteration or repeating the task\n",
    "name = input(\" enter your name :\")\n",
    "for i in name:\n",
    "    print(i)"
   ]
  },
  {
   "cell_type": "code",
   "execution_count": 6,
   "id": "168ca990-69f8-4e3a-b7a8-f69c84326c55",
   "metadata": {},
   "outputs": [
    {
     "name": "stdout",
     "output_type": "stream",
     "text": [
      "1\n",
      "2\n",
      "3\n",
      "4\n",
      "5\n",
      "6\n",
      "7\n",
      "8\n",
      "9\n",
      "10\n"
     ]
    }
   ],
   "source": [
    "#  print 1 to 10 \n",
    "for x in range(1,11):\n",
    "    print(x)"
   ]
  },
  {
   "cell_type": "code",
   "execution_count": 14,
   "id": "63445674-e293-4a70-81d8-1e966409571a",
   "metadata": {},
   "outputs": [
    {
     "name": "stdout",
     "output_type": "stream",
     "text": [
      "1\n",
      "3\n",
      "5\n",
      "7\n",
      "9\n",
      "11\n"
     ]
    }
   ],
   "source": [
    "#  print the pattern using for loop 1 3 5 7 11\n",
    "for x in range(1,12,2): \n",
    "    print(x)"
   ]
  },
  {
   "cell_type": "code",
   "execution_count": 16,
   "id": "613c2383-016e-4298-b6ff-158fb8dd9cf2",
   "metadata": {},
   "outputs": [
    {
     "name": "stdout",
     "output_type": "stream",
     "text": [
      "1\n",
      "3\n",
      "5\n",
      "7\n",
      "9\n",
      "11\n"
     ]
    }
   ],
   "source": [
    "#  print the pattern using for loop 1 3 5 7 11\n",
    "for x in range(1,12):\n",
    "    if x%2!=0:\n",
    "        print(x)"
   ]
  },
  {
   "cell_type": "code",
   "execution_count": 22,
   "id": "875ebd27-e5d3-485b-bea9-183d98b6448f",
   "metadata": {},
   "outputs": [
    {
     "name": "stdout",
     "output_type": "stream",
     "text": [
      "odd no: 1\n",
      "even no : 2\n",
      "odd no: 3\n",
      "even no : 4\n",
      "odd no: 5\n",
      "even no : 6\n",
      "odd no: 7\n",
      "even no : 8\n",
      "odd no: 9\n",
      "even no : 10\n",
      "odd no: 11\n",
      "even no : 12\n",
      "odd no: 13\n",
      "even no : 14\n",
      "odd no: 15\n",
      "even no : 16\n",
      "odd no: 17\n",
      "even no : 18\n",
      "odd no: 19\n",
      "even no : 20\n"
     ]
    }
   ],
   "source": [
    "#  print the even no and odd no 1 to 20\n",
    "for x in range(1,21):\n",
    "    if x%2 !=0:\n",
    "        print(\"odd no:\",x)\n",
    "    else:\n",
    "        print(\"even no :\",x)"
   ]
  },
  {
   "cell_type": "code",
   "execution_count": 3,
   "id": "bece19b0-5d8e-4418-add9-de1c959cc857",
   "metadata": {},
   "outputs": [
    {
     "name": "stdout",
     "output_type": "stream",
     "text": [
      "1\n",
      "2\n",
      "3\n",
      "4\n",
      "5\n",
      "6\n",
      "7\n",
      "8\n",
      "9\n",
      "10\n"
     ]
    }
   ],
   "source": [
    "# while loop : it is used to perform iteration until conditon will false \n",
    "#  print the no from 1 to 10 \n",
    "x=1\n",
    "while x<11:\n",
    "    print(x)\n",
    "    x=x+1"
   ]
  },
  {
   "cell_type": "code",
   "execution_count": 5,
   "id": "faff6f71-a029-4707-a378-1b7dad704879",
   "metadata": {},
   "outputs": [
    {
     "name": "stdout",
     "output_type": "stream",
     "text": [
      "10\n",
      "9\n",
      "8\n",
      "7\n",
      "6\n",
      "5\n",
      "4\n",
      "3\n",
      "2\n",
      "1\n"
     ]
    }
   ],
   "source": [
    "#  wap to print the no from 10 to 1 \n",
    "y=10\n",
    "while y>0:\n",
    "    print(y)\n",
    "    y=y-1"
   ]
  },
  {
   "cell_type": "markdown",
   "id": "4709d3de-2c7e-4600-9453-87c41efbcef3",
   "metadata": {},
   "source": [
    "x=10\n",
    "print(x)"
   ]
  },
  {
   "cell_type": "code",
   "execution_count": 3,
   "id": "48e78866-66ef-4c92-addb-bfea040d3774",
   "metadata": {},
   "outputs": [
    {
     "name": "stdout",
     "output_type": "stream",
     "text": [
      "1\n",
      "3\n",
      "5\n",
      "\n",
      "9\n",
      "11\n"
     ]
    }
   ],
   "source": [
    "# print the pattern 1 3 5 9 11 \n",
    "x=1\n",
    "while x<12:\n",
    "    if x==7:\n",
    "        print()\n",
    "    else:\n",
    "        print(x)\n",
    "    x=x+2"
   ]
  },
  {
   "cell_type": "code",
   "execution_count": 7,
   "id": "ecc0f9a7-8ace-4a82-aa90-f9b8d22ce553",
   "metadata": {},
   "outputs": [
    {
     "name": "stdout",
     "output_type": "stream",
     "text": [
      "1\n",
      "3\n",
      "5\n",
      "9\n",
      "11\n"
     ]
    }
   ],
   "source": [
    "# another way \n",
    "a=1\n",
    "while a<12:\n",
    "    if a !=7:\n",
    "        print(a)\n",
    "    a=a+2\n"
   ]
  },
  {
   "cell_type": "markdown",
   "id": "4f38e32f-196d-4dd9-bda8-c5301f1a0897",
   "metadata": {},
   "source": [
    "#  functions"
   ]
  },
  {
   "cell_type": "code",
   "execution_count": 20,
   "id": "5008bfec-a263-42be-aace-59c0b7004cae",
   "metadata": {},
   "outputs": [
    {
     "name": "stdout",
     "output_type": "stream",
     "text": [
      " my function name is print\n",
      " my age is : 18\n"
     ]
    },
    {
     "name": "stdin",
     "output_type": "stream",
     "text": [
      " enter the side of the square 23\n"
     ]
    },
    {
     "name": "stdout",
     "output_type": "stream",
     "text": [
      " the area of the square is : 529\n"
     ]
    }
   ],
   "source": [
    "#  function can perform any task and it can be reused many times\n",
    "def printName():\n",
    "    print(\" my function name is print\")\n",
    "\n",
    "# function calling \n",
    "printName()\n",
    "\n",
    "# argument function and parameter function\n",
    "def myAge(age):\n",
    "    print(\" my age is :\",age)\n",
    "\n",
    "myAge(18)\n",
    "          "
   ]
  },
  {
   "cell_type": "code",
   "execution_count": 22,
   "id": "7d00eccc-a010-445a-87d1-c52824e82667",
   "metadata": {},
   "outputs": [
    {
     "name": "stdin",
     "output_type": "stream",
     "text": [
      " enter the side of the square 45\n"
     ]
    },
    {
     "name": "stdout",
     "output_type": "stream",
     "text": [
      " the area of the square is : 2025\n"
     ]
    }
   ],
   "source": [
    "#  find area of square using function\n",
    "side=int(input(\" enter the side of the square\"))\n",
    "def square(side):\n",
    "    print(\" the area of the square is :\",side*side)\n",
    "\n",
    "square(side)"
   ]
  },
  {
   "cell_type": "code",
   "execution_count": 24,
   "id": "3a787889-19cd-43be-b290-3e9fb80d569f",
   "metadata": {},
   "outputs": [
    {
     "name": "stdin",
     "output_type": "stream",
     "text": [
      "enter the side of the square: 24\n"
     ]
    },
    {
     "name": "stdout",
     "output_type": "stream",
     "text": [
      " the area is : 576\n"
     ]
    }
   ],
   "source": [
    "#  another way \n",
    "side=int(input(\"enter the side of the square:\"))\n",
    "def square(side):\n",
    "    return side * side\n",
    "area= square(side)\n",
    "print(\" the area is :\",area)"
   ]
  },
  {
   "cell_type": "markdown",
   "id": "73e885e8-1b6b-4e4a-9b1c-f9efa3e35d14",
   "metadata": {},
   "source": [
    "#  list"
   ]
  },
  {
   "cell_type": "code",
   "execution_count": 32,
   "id": "8c7b3dfd-a034-4118-8635-efb25826fd80",
   "metadata": {},
   "outputs": [
    {
     "name": "stdout",
     "output_type": "stream",
     "text": [
      "bhavya\n",
      "kanak\n",
      "palak\n",
      "bhavya\n",
      "18\n",
      "24\n",
      "7\n",
      "24\n",
      "18\n",
      "palak\n",
      "kanak\n",
      "nishi\n"
     ]
    }
   ],
   "source": [
    "#  it is used to store multiple data . it store different type of data like int string float \n",
    "# it can also store the duplicate data\n",
    "#  create list and store your friends name \n",
    "friendsName =[\"kanak\",\"palak\",\"bhavya\",18,24,7]\n",
    "#  to access the single  data from list --> listvariablename[indexno]\n",
    "print(friendsName[2])\n",
    "# to print complete list \n",
    "for name in friendsName:\n",
    "    print(name)\n",
    "\n",
    "# operations on list \n",
    "# append---> add any object to the end of the  list\n",
    "friendsName.append(\"sanjay\")\n",
    "# insert---> will add the data based on the index no\n",
    "friendsName.insert(0,\"nishi\")\n",
    "# remove---> to remove the data from the list ( removes the first occurences)\n",
    "friendsName.remove(7)\n",
    "# pop---> to remove the data using pop ( it follows stack and removes the last value)\n",
    "friendsName.pop()   # using the index as argument will also remove the data\n",
    "friendsName.pop(3)\n",
    "# reverse---> to reverse the list\n",
    "friendsName.reverse()\n",
    "# clear---> to delete the complete list\n",
    "# sort---> to arrange them in alphabetical order \n",
    "friendsName.clear()\n",
    "for name in friendsName:\n",
    "    print(name)\n",
    "\n"
   ]
  },
  {
   "cell_type": "code",
   "execution_count": 46,
   "id": "079a9ce9-cf31-4db8-8fea-6221d3be27aa",
   "metadata": {},
   "outputs": [
    {
     "name": "stdout",
     "output_type": "stream",
     "text": [
      "kanak\n",
      "palak\n",
      "bhavya\n",
      "sakshi\n",
      "nishi\n",
      "palak\n",
      "bhavya\n",
      "sakshi\n"
     ]
    }
   ],
   "source": [
    "friendsName=[\"kanak\",\"palak\",\"bhavya\",\"sakshi\",\"nishi\"]\n",
    "for name in friendsName[0:5]:  # slicing \n",
    "    print(name)\n",
    "\n",
    "\n",
    "for name in friendsName[-4:-1]:\n",
    "    print(name)"
   ]
  },
  {
   "cell_type": "code",
   "execution_count": null,
   "id": "81a13d67-91fe-493e-b83a-db250f9894d1",
   "metadata": {},
   "outputs": [],
   "source": [
    "#  wap to add 10 names in list and remove the laqst value reverse the list sorting the list "
   ]
  },
  {
   "cell_type": "code",
   "execution_count": 11,
   "id": "bd68bfe2-87c1-46b6-a613-8e9f65b3da65",
   "metadata": {},
   "outputs": [
    {
     "name": "stdin",
     "output_type": "stream",
     "text": [
      "enter the name kanak\n",
      "enter the name palak\n",
      "enter the name nishi\n",
      "enter the name bhavya\n",
      "enter the name sagun\n",
      "enter the name sakshi\n",
      "enter the name harsh\n",
      "enter the name gaurav\n",
      "enter the name garima\n",
      "enter the name gunjan\n",
      "enter the name hii\n",
      "enter the name hello\n"
     ]
    },
    {
     "name": "stdout",
     "output_type": "stream",
     "text": [
      "kanak\n",
      "palak\n",
      "kanak\n",
      "palak\n",
      "nishi\n",
      "bhavya\n",
      "sagun\n",
      "sakshi\n",
      "harsh\n",
      "gaurav\n",
      "garima\n",
      "gunjan\n",
      "hii\n",
      "hello\n"
     ]
    }
   ],
   "source": [
    "friendsName =[\"kanak\",\"palak\"]\n",
    "for i in range(0,12):\n",
    "    friendsName.append(input(\"enter the name\"))\n",
    "for name in friendsName:\n",
    "    print(name)"
   ]
  },
  {
   "cell_type": "code",
   "execution_count": 33,
   "id": "e02ab99a-2e3f-4936-ba80-207b21fe22b3",
   "metadata": {},
   "outputs": [
    {
     "name": "stdout",
     "output_type": "stream",
     "text": [
      "['care', 'trust', 'understanding', 'believe', 'love', 'god', 'us']\n",
      "['believe', 'care', 'god', 'love', 'trust', 'understanding']\n"
     ]
    }
   ],
   "source": [
    "listName=[\"care\",\"trust\",\"understanding\",\"believe\",\"love\",\"god\",\"us\"]\n",
    "print(listName)\n",
    "listName.pop()\n",
    "listName.reverse()\n",
    "listName.sort()\n",
    "print(listName)\n"
   ]
  },
  {
   "cell_type": "markdown",
   "id": "74bb7593-02f4-4b1e-a089-3893c866e468",
   "metadata": {},
   "source": [
    "# dictionary\n",
    "#  dictionary ---> it can store the data in key value pair\n",
    "# ----> ordered,no duplicate,changable\n",
    "myInfo={\"name\":\"kanak\",\n",
    "        \"email\":\"xyz@gmail.com\",\n",
    "        \"number\": \"1234567890\",\n",
    "         \"age\": 18,\"name\": \"niharika\"}\n",
    "print(myInfo)\n",
    "print(type(myInfo))\n",
    "print(f\"my name is {myInfo[\"name\"]}  my age is {myInfo[\"age\"]}  my email is {myInfo[\"email\"]}  my number is {myInfo[\"number\"]}\")\n",
    "# print(myInfo[\"name\"])\n",
    "# to access the complete dict key values\n",
    "for value in myInfo.values():\n",
    "    print(value)\n",
    "for key in myInfo.keys():\n",
    "    print(key)\n",
    "#  assign the value in the dict\n",
    "myInfo[\"name\"]=\"kanak\"\n",
    "myInfo[\"age\"]=21\n",
    "myInfo[\"email\"]=\"we@gmail.com\"\n",
    "print(myInfo)\n",
    "# update ----> to add the new value in the dictionary\n",
    "myInfo.update({\"gender\":\"male\"})\n",
    "print(myInfo)\n",
    "#  pop----> to remove the data in the dictionary \n",
    "myInfo.pop(\"age\")\n",
    "print(myInfo)\n"
   ]
  },
  {
   "cell_type": "code",
   "execution_count": 17,
   "id": "0d15886b-1855-4d60-b17c-86dbfbf4cc2f",
   "metadata": {},
   "outputs": [
    {
     "name": "stdout",
     "output_type": "stream",
     "text": [
      "['kanak', 'palak', 'bhavya']\n",
      "['kanak', 'nishi', 'palak', 'bhavya']\n",
      "<class 'list'>\n"
     ]
    }
   ],
   "source": [
    "name=[]\n",
    "name.append(\"kanak\")\n",
    "name.append(\"palak\")\n",
    "name.append(\"bhavya\")\n",
    "print(name)\n",
    "name.insert(1,\"nishi\")\n",
    "print(name)\n",
    "print(type(name))"
   ]
  },
  {
   "cell_type": "markdown",
   "id": "19257305-f25f-4efa-b16f-f2bb4e3acf2a",
   "metadata": {},
   "source": [
    "# set\n"
   ]
  },
  {
   "cell_type": "code",
   "execution_count": 52,
   "id": "fda50fc9-633f-4838-bc5d-78341ca4ee5e",
   "metadata": {},
   "outputs": [
    {
     "name": "stdout",
     "output_type": "stream",
     "text": [
      "{'Kanak', 'Palak', 'Bhavya'}\n"
     ]
    }
   ],
   "source": [
    "# set----> it can store the multiple data \n",
    "# unordered,unchangeable,no duplicate\n",
    "myset = {\"Kanak\",\"Palak\",\"Bhavya\",\"Kanak\"}\n",
    "print(myset)"
   ]
  },
  {
   "cell_type": "markdown",
   "id": "0531bc49-8161-4582-9893-b9945f28533b",
   "metadata": {},
   "source": [
    "# tuple"
   ]
  },
  {
   "cell_type": "code",
   "execution_count": null,
   "id": "d16496a8-fa00-4ead-9360-f9ba17cae25c",
   "metadata": {},
   "outputs": [],
   "source": [
    "#  it can store the multiple data \n",
    "#  ordered , no duplicate, unchangeable\n",
    "#  "
   ]
  },
  {
   "cell_type": "code",
   "execution_count": null,
   "id": "b6881c26-dccd-4612-a385-c0fe014896b1",
   "metadata": {},
   "outputs": [],
   "source": []
  },
  {
   "cell_type": "code",
   "execution_count": null,
   "id": "b0283068-106c-445e-b09b-fde64cea3d23",
   "metadata": {},
   "outputs": [],
   "source": []
  },
  {
   "cell_type": "code",
   "execution_count": null,
   "id": "3ef852f8-7d48-4135-9e03-241cb50c8657",
   "metadata": {},
   "outputs": [],
   "source": []
  },
  {
   "cell_type": "code",
   "execution_count": null,
   "id": "634e8bf8-625a-4378-a39c-57e4c5f30a96",
   "metadata": {},
   "outputs": [],
   "source": []
  }
 ],
 "metadata": {
  "kernelspec": {
   "display_name": "Python 3 (ipykernel)",
   "language": "python",
   "name": "python3"
  },
  "language_info": {
   "codemirror_mode": {
    "name": "ipython",
    "version": 3
   },
   "file_extension": ".py",
   "mimetype": "text/x-python",
   "name": "python",
   "nbconvert_exporter": "python",
   "pygments_lexer": "ipython3",
   "version": "3.12.4"
  }
 },
 "nbformat": 4,
 "nbformat_minor": 5
}
