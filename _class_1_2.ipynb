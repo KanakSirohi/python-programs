{
 "cells": [
  {
   "cell_type": "code",
   "execution_count": 3,
   "id": "43dca5be-7cbc-4146-8d9f-0d8e5925ece8",
   "metadata": {},
   "outputs": [
    {
     "name": "stdout",
     "output_type": "stream",
     "text": [
      "this is my first python class\n"
     ]
    }
   ],
   "source": [
    "# single line statement \n",
    "a= 'this is my first python class' \n",
    "print(a)\n"
   ]
  },
  {
   "cell_type": "code",
   "execution_count": 15,
   "id": "081150bf-02b3-4d88-852d-eebb450c485c",
   "metadata": {},
   "outputs": [
    {
     "name": "stdin",
     "output_type": "stream",
     "text": [
      "enter the first number: 80\n",
      "enter the second number: 10\n"
     ]
    },
    {
     "name": "stdout",
     "output_type": "stream",
     "text": [
      "90\n",
      "70\n",
      "800\n",
      "8.0\n",
      "0\n",
      "8\n"
     ]
    }
   ],
   "source": [
    "#  programs for arithmetic operator addition\n",
    "a=int(input(\"enter the first number:\"))\n",
    "b=int(input(\"enter the second number:\"))\n",
    "sum=a+b\n",
    "diff=a-b\n",
    "print(sum)\n",
    "print(diff)\n",
    "print(a*b)\n",
    "print(a/b)\n",
    "print(a%b)\n",
    "print(a//b)  # flow division"
   ]
  },
  {
   "cell_type": "markdown",
   "id": "a0573ca7-94c2-4921-abe2-9db94cb9a9ed",
   "metadata": {},
   "source": [
    "#  assignment operator\n",
    "#  =,+=,-=,*=,/=,//="
   ]
  },
  {
   "cell_type": "code",
   "execution_count": 17,
   "id": "af70cb6f-5e43-425d-92a1-200510217fe0",
   "metadata": {},
   "outputs": [
    {
     "name": "stdout",
     "output_type": "stream",
     "text": [
      "10\n"
     ]
    }
   ],
   "source": [
    "a=10\n",
    "print(a)\n"
   ]
  },
  {
   "cell_type": "code",
   "execution_count": 19,
   "id": "d3f8b0c2-f0fb-4739-95db-f29f80661a60",
   "metadata": {},
   "outputs": [
    {
     "name": "stdout",
     "output_type": "stream",
     "text": [
      "30\n"
     ]
    }
   ],
   "source": [
    "a=20\n",
    " a+=10 # a=a+10\n",
    "print(a)"
   ]
  },
  {
   "cell_type": "code",
   "execution_count": 21,
   "id": "b88e6c83-0833-4d17-8a92-93db95e710b1",
   "metadata": {},
   "outputs": [
    {
     "name": "stdout",
     "output_type": "stream",
     "text": [
      "10\n"
     ]
    }
   ],
   "source": [
    "a=20\n",
    "a-=10\n",
    "print(a)\n"
   ]
  },
  {
   "cell_type": "code",
   "execution_count": 23,
   "id": "1e9ebdbc-6a54-4a5e-8fc1-468896a6fbef",
   "metadata": {},
   "outputs": [
    {
     "name": "stdout",
     "output_type": "stream",
     "text": [
      "160\n"
     ]
    }
   ],
   "source": [
    "a=40\n",
    "a*=4\n",
    "print(a)"
   ]
  },
  {
   "cell_type": "code",
   "execution_count": 25,
   "id": "8d57625b-4144-4df6-961c-56c570ff4a93",
   "metadata": {},
   "outputs": [
    {
     "name": "stdout",
     "output_type": "stream",
     "text": [
      "4.0\n"
     ]
    }
   ],
   "source": [
    "a=40\n",
    "a/=10\n",
    "print(a)"
   ]
  },
  {
   "cell_type": "code",
   "execution_count": 27,
   "id": "ff199328",
   "metadata": {},
   "outputs": [
    {
     "name": "stdout",
     "output_type": "stream",
     "text": [
      "2\n"
     ]
    }
   ],
   "source": [
    "a=40\n",
    "a//=20\n",
    "print(a)"
   ]
  },
  {
   "cell_type": "code",
   "execution_count": 29,
   "id": "157ddfe3-abd4-4ef7-9fee-fc6ff8f947de",
   "metadata": {},
   "outputs": [
    {
     "name": "stdout",
     "output_type": "stream",
     "text": [
      "4\n"
     ]
    }
   ],
   "source": [
    "a=80\n",
    "a%=19\n",
    "print(a)"
   ]
  },
  {
   "cell_type": "markdown",
   "id": "2408981b-4358-4b61-86c5-e958fc5372a5",
   "metadata": {},
   "source": [
    "#  comparision operator \n",
    "#  <,>,<=,>=,!=,=="
   ]
  },
  {
   "cell_type": "code",
   "execution_count": 37,
   "id": "a77e3590-7d4e-458c-9cfd-dc3c4bd83f37",
   "metadata": {},
   "outputs": [
    {
     "name": "stdout",
     "output_type": "stream",
     "text": [
      "False\n",
      "True\n",
      "False\n",
      "True\n",
      "False\n",
      "True\n"
     ]
    }
   ],
   "source": [
    " a=20\n",
    "b=30\n",
    "print(a==b) # output will be in the form of the boolean \n",
    "print(a<b)\n",
    "print(a>b)\n",
    "print(a<=b)# if one condition is true it will give true\n",
    "print(a>=b)\n",
    "print(a!=b)"
   ]
  },
  {
   "cell_type": "markdown",
   "id": "3f493a9f-e65b-4560-a452-c92531c46a11",
   "metadata": {},
   "source": [
    "#  logical operator "
   ]
  },
  {
   "cell_type": "markdown",
   "id": "4742cb34-8d21-48d7-88ed-41ea0abbe626",
   "metadata": {},
   "source": [
    "#  and ,or,not"
   ]
  },
  {
   "cell_type": "code",
   "execution_count": 62,
   "id": "9fb875ce-6e3d-40cb-80f3-bef5572303e3",
   "metadata": {},
   "outputs": [
    {
     "data": {
      "text/plain": [
       "True"
      ]
     },
     "execution_count": 62,
     "metadata": {},
     "output_type": "execute_result"
    }
   ],
   "source": [
    "True and True "
   ]
  },
  {
   "cell_type": "code",
   "execution_count": 64,
   "id": "e6b82c89-bf98-4276-8f85-226a84f76423",
   "metadata": {},
   "outputs": [
    {
     "data": {
      "text/plain": [
       "False"
      ]
     },
     "execution_count": 64,
     "metadata": {},
     "output_type": "execute_result"
    }
   ],
   "source": [
    "True and False"
   ]
  },
  {
   "cell_type": "code",
   "execution_count": 66,
   "id": "b26fe082-ba4e-4d94-a017-d2870e5fbf3c",
   "metadata": {},
   "outputs": [
    {
     "data": {
      "text/plain": [
       "False"
      ]
     },
     "execution_count": 66,
     "metadata": {},
     "output_type": "execute_result"
    }
   ],
   "source": [
    "False and False"
   ]
  },
  {
   "cell_type": "code",
   "execution_count": 68,
   "id": "418f784f-1402-4974-8146-55a6b0a77df0",
   "metadata": {},
   "outputs": [
    {
     "data": {
      "text/plain": [
       "False"
      ]
     },
     "execution_count": 68,
     "metadata": {},
     "output_type": "execute_result"
    }
   ],
   "source": [
    "False and True"
   ]
  },
  {
   "cell_type": "code",
   "execution_count": 70,
   "id": "912a28c7-6305-4b91-91a8-223eadd9c5a9",
   "metadata": {},
   "outputs": [
    {
     "data": {
      "text/plain": [
       "1"
      ]
     },
     "execution_count": 70,
     "metadata": {},
     "output_type": "execute_result"
    }
   ],
   "source": [
    "1 and 1"
   ]
  },
  {
   "cell_type": "code",
   "execution_count": 72,
   "id": "73a07a39-fc67-4238-9348-75080297f3ba",
   "metadata": {},
   "outputs": [
    {
     "data": {
      "text/plain": [
       "0"
      ]
     },
     "execution_count": 72,
     "metadata": {},
     "output_type": "execute_result"
    }
   ],
   "source": [
    "1 and 0"
   ]
  },
  {
   "cell_type": "code",
   "execution_count": 74,
   "id": "c66fa3b1-1c98-4f93-afe8-c3c44c4e9202",
   "metadata": {},
   "outputs": [
    {
     "data": {
      "text/plain": [
       "0"
      ]
     },
     "execution_count": 74,
     "metadata": {},
     "output_type": "execute_result"
    }
   ],
   "source": [
    "0 and 0\n"
   ]
  },
  {
   "cell_type": "code",
   "execution_count": 76,
   "id": "59cc5b10-08fb-4aa8-9864-752e89dcc3a5",
   "metadata": {},
   "outputs": [
    {
     "data": {
      "text/plain": [
       "20"
      ]
     },
     "execution_count": 76,
     "metadata": {},
     "output_type": "execute_result"
    }
   ],
   "source": [
    "19 and 20"
   ]
  },
  {
   "cell_type": "code",
   "execution_count": 80,
   "id": "0ebf3a42-7a8a-4e6a-b823-9adfc67165dd",
   "metadata": {},
   "outputs": [
    {
     "data": {
      "text/plain": [
       "False"
      ]
     },
     "execution_count": 80,
     "metadata": {},
     "output_type": "execute_result"
    }
   ],
   "source": [
    " \n",
    " not(True)"
   ]
  },
  {
   "cell_type": "code",
   "execution_count": 82,
   "id": "6211d96d-67ee-448e-8f37-188aa583a985",
   "metadata": {},
   "outputs": [
    {
     "data": {
      "text/plain": [
       "True"
      ]
     },
     "execution_count": 82,
     "metadata": {},
     "output_type": "execute_result"
    }
   ],
   "source": [
    "not (False)"
   ]
  },
  {
   "cell_type": "code",
   "execution_count": 88,
   "id": "cad0a465-0976-41e8-8f5f-371e621c44ad",
   "metadata": {},
   "outputs": [
    {
     "data": {
      "text/plain": [
       "False"
      ]
     },
     "execution_count": 88,
     "metadata": {},
     "output_type": "execute_result"
    }
   ],
   "source": [
    "not(1)"
   ]
  },
  {
   "cell_type": "code",
   "execution_count": 90,
   "id": "f1818581-54e3-4922-be06-9f1ed0c024ea",
   "metadata": {},
   "outputs": [
    {
     "data": {
      "text/plain": [
       "True"
      ]
     },
     "execution_count": 90,
     "metadata": {},
     "output_type": "execute_result"
    }
   ],
   "source": [
    "True or True"
   ]
  },
  {
   "cell_type": "code",
   "execution_count": 94,
   "id": "679bcce6-8d7b-4a41-a081-f91f32b1f0a5",
   "metadata": {},
   "outputs": [
    {
     "data": {
      "text/plain": [
       "True"
      ]
     },
     "execution_count": 94,
     "metadata": {},
     "output_type": "execute_result"
    }
   ],
   "source": [
    "True or False"
   ]
  },
  {
   "cell_type": "code",
   "execution_count": 98,
   "id": "6605411b-b9bc-4893-8312-523801e60cfd",
   "metadata": {},
   "outputs": [
    {
     "data": {
      "text/plain": [
       "False"
      ]
     },
     "execution_count": 98,
     "metadata": {},
     "output_type": "execute_result"
    }
   ],
   "source": [
    "False or False"
   ]
  },
  {
   "cell_type": "code",
   "execution_count": 100,
   "id": "e1247fb0-17f5-44f7-aab3-91aab398f0c5",
   "metadata": {},
   "outputs": [
    {
     "data": {
      "text/plain": [
       "19"
      ]
     },
     "execution_count": 100,
     "metadata": {},
     "output_type": "execute_result"
    }
   ],
   "source": [
    "19 or 20"
   ]
  },
  {
   "cell_type": "code",
   "execution_count": 102,
   "id": "4e2c0b4c-08d3-456f-9c2d-16a3636184aa",
   "metadata": {},
   "outputs": [
    {
     "data": {
      "text/plain": [
       "20"
      ]
     },
     "execution_count": 102,
     "metadata": {},
     "output_type": "execute_result"
    }
   ],
   "source": [
    "#  or \n",
    "20 or 30"
   ]
  },
  {
   "cell_type": "markdown",
   "id": "d802d94d-fe11-468f-b38f-72cdb8942a74",
   "metadata": {},
   "source": [
    "# membership operator"
   ]
  },
  {
   "cell_type": "code",
   "execution_count": 3,
   "id": "22eae330-6ac8-4d9c-bb98-3a2e76d87578",
   "metadata": {},
   "outputs": [
    {
     "name": "stdout",
     "output_type": "stream",
     "text": [
      "kanak sirohi\n"
     ]
    }
   ],
   "source": [
    "print(\"kanak sirohi\")"
   ]
  },
  {
   "cell_type": "code",
   "execution_count": 5,
   "id": "1e5b9bc0-0d8c-4cf0-8a2d-1d61c5c5b453",
   "metadata": {},
   "outputs": [
    {
     "name": "stdout",
     "output_type": "stream",
     "text": [
      " kanak sirohi\n"
     ]
    }
   ],
   "source": [
    "name = \" kanak sirohi\"\n",
    "print ( name)"
   ]
  },
  {
   "cell_type": "code",
   "execution_count": 15,
   "id": "a19dea2c-2b38-4d50-83af-6baa0fcf2cc1",
   "metadata": {},
   "outputs": [
    {
     "name": "stdout",
     "output_type": "stream",
     "text": [
      " my name is :kanak sirohi400000\n"
     ]
    }
   ],
   "source": [
    "name = \"kanak sirohi\"\n",
    "salary = str(400000)\n",
    "print (\" my name is :\"+ name  +   salary)"
   ]
  },
  {
   "cell_type": "code",
   "execution_count": 1,
   "id": "8477b118-8711-4af3-9f3a-0f1b4f2852ec",
   "metadata": {},
   "outputs": [
    {
     "name": "stdout",
     "output_type": "stream",
     "text": [
      "my name is  kanak sirohi and salary is 40000\n"
     ]
    }
   ],
   "source": [
    "name =\" kanak sirohi\" \n",
    "salary = str(40000)\n",
    "print (f\"my name is {name} and salary is {salary}\");"
   ]
  },
  {
   "cell_type": "markdown",
   "id": "9e37c173-b04d-412d-b4f6-f1beea201ba7",
   "metadata": {},
   "source": [
    "#  DATA TYPES"
   ]
  },
  {
   "cell_type": "code",
   "execution_count": null,
   "id": "38a242c4-7c7d-4da5-8c33-15048c7676ee",
   "metadata": {},
   "outputs": [],
   "source": [
    "# in python there are very few data types\n",
    "#  in python we do not need to declare the data types\n",
    "#  primitive :\n",
    "#  int --- it is used to store numeric values  ( example amt= 2418)\n",
    "#  str --- it is used to store string values  ( example  name = \" kanak \")\n",
    "# float --- it is used to store the decimal value  ( example price = 24.18)\n",
    "#    data types to store the multiple values:\n",
    "#    array --- it can store the multiple values of the same data types \n",
    "#     example  name= [ \" kanak\",\" palak\", \" bhavya\"]\n",
    "#  1. List : it can store  multiple values of different data types \n",
    "#   example name =[\" kanak\",\"palak\",2418]\n",
    "#   2.Tuple : it can store multiple values but cannnot be modified \n",
    "#  ** typecasting--- convert one data type to anothewr data type example price 24.18,,,,, payPrice=int (price)\n",
    "#   3. Set \n",
    "#  4. Dictionary"
   ]
  },
  {
   "cell_type": "code",
   "execution_count": 6,
   "id": "0be847dd-c582-4b89-9ffe-bbc45bb4cac0",
   "metadata": {},
   "outputs": [
    {
     "name": "stdout",
     "output_type": "stream",
     "text": [
      "<class 'int'>\n",
      "2418\n"
     ]
    }
   ],
   "source": [
    "amount = 2418\n",
    "print(type(amount))\n",
    "print(amount)"
   ]
  },
  {
   "cell_type": "code",
   "execution_count": 42,
   "id": "6a91e4b6-a57c-4418-aacf-ec5db59169bb",
   "metadata": {},
   "outputs": [
    {
     "name": "stdout",
     "output_type": "stream",
     "text": [
      "24.18\n",
      "<class 'float'>\n",
      "24\n",
      "<class 'int'>\n"
     ]
    }
   ],
   "source": [
    "#  float to int \n",
    "price = 24.18\n",
    "print(price)\n",
    "print(type(price))\n",
    "pay = int(price)\n",
    "print(pay)\n",
    "print(type(pay))"
   ]
  },
  {
   "cell_type": "code",
   "execution_count": 26,
   "id": "a662b904-ca29-4c73-aff6-7d8ba23d1c4a",
   "metadata": {},
   "outputs": [
    {
     "name": "stdout",
     "output_type": "stream",
     "text": [
      "2418  and data type is  <class 'str'>\n"
     ]
    }
   ],
   "source": [
    "#  int to str  (possible)\n",
    "# str to int (impossible)\n",
    "amount =2418\n",
    "stringAmount= str(amount)\n",
    "print(stringAmount,\" and data type is \",type(stringAmount))"
   ]
  },
  {
   "cell_type": "code",
   "execution_count": 32,
   "id": "69f95bb5-7ec6-4061-a033-f71509fe6801",
   "metadata": {},
   "outputs": [
    {
     "name": "stdin",
     "output_type": "stream",
     "text": [
      " enter your name : kanak sirohi\n"
     ]
    },
    {
     "name": "stdout",
     "output_type": "stream",
     "text": [
      " my name is : kanak sirohi\n"
     ]
    }
   ],
   "source": [
    "#  to take input from the user \n",
    "name = input(\" enter your name :\")\n",
    "print (\" my name is :\",name)"
   ]
  },
  {
   "cell_type": "code",
   "execution_count": 36,
   "id": "d2be120d-dd3a-4c72-9d13-ec9059aa77fd",
   "metadata": {},
   "outputs": [
    {
     "name": "stdin",
     "output_type": "stream",
     "text": [
      " enter the year in which you were born:  2006\n",
      " enter the current year: 2024\n"
     ]
    },
    {
     "name": "stdout",
     "output_type": "stream",
     "text": [
      " your age is : 18\n"
     ]
    }
   ],
   "source": [
    "#  finding age \n",
    "birthYear = int(input(\" enter the year in which you were born: \"))\n",
    "currentYear =  int(input(\" enter the current year:\"))\n",
    "print ( \" your age is :\",currentYear- birthYear)\n"
   ]
  },
  {
   "cell_type": "markdown",
   "id": "744929e8-5eba-47e2-8464-634c8aa46b26",
   "metadata": {},
   "source": [
    "#  notes"
   ]
  },
  {
   "cell_type": "code",
   "execution_count": 8,
   "id": "919ace3b-2cf9-4835-8fb5-7816b0d28a96",
   "metadata": {},
   "outputs": [
    {
     "name": "stdout",
     "output_type": "stream",
     "text": [
      " my name is kanak sirohi and salary is  1000 and age is  18\n",
      " my name is kanak sirohi salary is 1000 and age is 18\n"
     ]
    }
   ],
   "source": [
    "#   + is used to concatenate two strings \n",
    "age = 18 \n",
    "salary = 1000\n",
    "name =\"kanak sirohi\" \n",
    "#  here the salary and the age is not string so we will not use + with them we will use , \n",
    "print(\" my name is \"+name +\" and salary is \",salary,\"and age is \",age)\n",
    "# or \n",
    "print(f\" my name is {name} and  salary is {salary} and age is {age}\")"
   ]
  },
  {
   "cell_type": "code",
   "execution_count": 12,
   "id": "da98cb81-4445-4503-9d4e-39c19d8e39fc",
   "metadata": {},
   "outputs": [
    {
     "name": "stdout",
     "output_type": "stream",
     "text": [
      "<class 'int'>\n",
      "<class 'int'>\n",
      "<class 'str'>\n",
      "<class 'str'>\n"
     ]
    }
   ],
   "source": [
    "#  typecasting example\n",
    "salary = 1000 \n",
    "age = 18 \n",
    "salaryString= str(type(salary))\n",
    "stringAge= str(type(age))\n",
    "print(type(salary))\n",
    "print(type(age))\n",
    "print(type(salaryString))\n",
    "print(type(stringAge))"
   ]
  },
  {
   "cell_type": "code",
   "execution_count": null,
   "id": "cd0eb3ec-485a-43b0-be76-612aef314c76",
   "metadata": {},
   "outputs": [],
   "source": []
  },
  {
   "cell_type": "code",
   "execution_count": null,
   "id": "0f8d1ac1-1178-4f5f-bca9-217bc80c46d1",
   "metadata": {},
   "outputs": [],
   "source": []
  },
  {
   "cell_type": "code",
   "execution_count": null,
   "id": "e5aee251-e11f-48d7-9cff-393b6ef85fa4",
   "metadata": {},
   "outputs": [],
   "source": []
  },
  {
   "cell_type": "code",
   "execution_count": null,
   "id": "765e7717-0040-4f8a-92b3-28573fc12155",
   "metadata": {},
   "outputs": [],
   "source": []
  },
  {
   "cell_type": "code",
   "execution_count": null,
   "id": "cb8353df-24da-40aa-9d2d-37b45cd1be30",
   "metadata": {},
   "outputs": [],
   "source": []
  },
  {
   "cell_type": "code",
   "execution_count": null,
   "id": "7a10d689-a122-4f6b-af0c-5b039ea1c98f",
   "metadata": {},
   "outputs": [],
   "source": []
  },
  {
   "cell_type": "code",
   "execution_count": null,
   "id": "85789e29-5875-4b4c-8364-7af46d469f6e",
   "metadata": {},
   "outputs": [],
   "source": []
  },
  {
   "cell_type": "code",
   "execution_count": null,
   "id": "4d293f84-3559-4154-bfbe-9fecf5563462",
   "metadata": {},
   "outputs": [],
   "source": []
  },
  {
   "cell_type": "code",
   "execution_count": null,
   "id": "96ec5e0c-5a6a-4a66-a588-5a3ca89961f4",
   "metadata": {},
   "outputs": [],
   "source": []
  },
  {
   "cell_type": "code",
   "execution_count": null,
   "id": "58f25a4c-1155-4279-91d8-9daa719f6387",
   "metadata": {},
   "outputs": [],
   "source": []
  }
 ],
 "metadata": {
  "kernelspec": {
   "display_name": "Python 3 (ipykernel)",
   "language": "python",
   "name": "python3"
  },
  "language_info": {
   "codemirror_mode": {
    "name": "ipython",
    "version": 3
   },
   "file_extension": ".py",
   "mimetype": "text/x-python",
   "name": "python",
   "nbconvert_exporter": "python",
   "pygments_lexer": "ipython3",
   "version": "3.12.4"
  }
 },
 "nbformat": 4,
 "nbformat_minor": 5
}
